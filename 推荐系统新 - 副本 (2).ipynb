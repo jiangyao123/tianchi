{
 "cells": [
  {
   "cell_type": "code",
   "execution_count": 2,
   "metadata": {},
   "outputs": [],
   "source": [
    "import pandas as pd\n",
    "import numpy as np\n",
    "import matplotlib.pyplot as plt"
   ]
  },
  {
   "cell_type": "code",
   "execution_count": 3,
   "metadata": {},
   "outputs": [],
   "source": [
    "data_item=pd.read_csv(r'C:\\Users\\jiang\\Desktop\\fresh_comp_offline\\tianchi_fresh_comp_train_item.csv')\n",
    "data_user=pd.read_csv(r'C:\\Users\\jiang\\Desktop\\fresh_comp_offline\\tianchi_fresh_comp_train_user.csv')"
   ]
  },
  {
   "cell_type": "code",
   "execution_count": 4,
   "metadata": {},
   "outputs": [],
   "source": [
    "date=data_user.time.str.split(' ',expand=True)\n",
    "date.columns=['day','time']\n",
    "data_user=pd.concat([data_user,date],axis=1)\n",
    "data_user=data_user.drop(columns='time')\n",
    "data_user=data_user.drop(columns='user_geohash')\n",
    "data_user.day=pd.to_datetime(data_user.day) "
   ]
  },
  {
   "cell_type": "code",
   "execution_count": 5,
   "metadata": {},
   "outputs": [],
   "source": [
    "data=data_user[data_user['item_id'].isin (data_item['item_id'])]\n",
    "new_user=data[data['behavior_type']==4].user_id.unique()\n",
    "non_user=pd.DataFrame(list(set(data.user_id.unique()).difference(set(new_user))))\n",
    "data=data[~data['user_id'].isin(non_user)]\n"
   ]
  },
  {
   "cell_type": "code",
   "execution_count": 36,
   "metadata": {},
   "outputs": [],
   "source": [
    "def user_item_feature(data,end_date):\n",
    "    daybefore_1=data[data['day']==end_date- datetime.timedelta(days=1)]\n",
    "    user_item_1=pd.crosstab([daybefore_1['user_id'],daybefore_1['item_id']],daybefore_1.behavior_type)\n",
    "    daybefore_2=data[(data['day']<=end_date- datetime.timedelta(days=1))&(data['day']>=end_date- datetime.timedelta(days=2))]\n",
    "    user_item_2=pd.crosstab([daybefore_2['user_id'],daybefore_2['item_id']],daybefore_2.behavior_type)\n",
    "    daybefore_3=data[(data['day']<=end_date- datetime.timedelta(days=1))&(data['day']>=end_date- datetime.timedelta(days=3))]\n",
    "    user_item_3=pd.crosstab([daybefore_3['user_id'],daybefore_3['item_id']],daybefore_3.behavior_type)\n",
    "    daybefore_4=data[(data['day']<=end_date- datetime.timedelta(days=1))&(data['day']>=end_date- datetime.timedelta(days=4))]\n",
    "    user_item_4=pd.crosstab([daybefore_4['user_id'],daybefore_4['item_id']],daybefore_4.behavior_type)\n",
    "    daybefore_5=data[(data['day']<=end_date- datetime.timedelta(days=1))&(data['day']>=end_date- datetime.timedelta(days=5))]\n",
    "    user_item_5=pd.crosstab([daybefore_5['user_id'],daybefore_5['item_id']],daybefore_5.behavior_type)\n",
    "    user_item_repeatperiod=data[(data['day']<=end_date- datetime.timedelta(days=1))&(data['behavior_type']==4)]\n",
    "    user_item_repeattime=pd.crosstab([ user_item_repeatperiod['user_id'],user_item_repeatperiod['item_id']],data.behavior_type)\n",
    "    user_item_feature=pd.merge(user_item_5, user_item_4,how='left',right_index=True,left_index=True) \n",
    "    user_item_feature=pd.merge(user_item_feature, user_item_3,how='left',right_index=True,left_index=True) \n",
    "    user_item_feature=pd.merge(user_item_feature, user_item_2,how='left',right_index=True,left_index=True)\n",
    "    user_item_feature=pd.merge(user_item_feature, user_item_1,how='left',right_index=True,left_index=True)\n",
    "    user_item_feature=pd.merge(user_item_feature, user_item_repeattime,how='left',right_index=True,left_index=True)\n",
    "    pd.set_option('mode.use_inf_as_na', True)\n",
    "    user_item_feature=user_item_feature.fillna(0)\n",
    "    return user_item_feature"
   ]
  },
  {
   "cell_type": "code",
   "execution_count": 37,
   "metadata": {},
   "outputs": [],
   "source": [
    "def user_feature(data,end_date):\n",
    "    daybefore_1=data[data['day']==end_date- datetime.timedelta(days=1)]\n",
    "    user_1=pd.crosstab([daybefore_1.user_id],daybefore_1.behavior_type)\n",
    "    user_browse_buy_1=user_1[4]/user_1[1]\n",
    "    user_collect_buy_1=user_1[4]/user_1[2]\n",
    "    user_cart_buy_1=user_1[4]/user_1[3]\n",
    "    user_1['user_browse_buy_1']=user_browse_buy_1\n",
    "    user_1['user_collect_buy_1']=user_collect_buy_1\n",
    "    user_1['user_cart_buy_1']=user_cart_buy_1\n",
    "    daybefore_2=data[(data['day']<=end_date- datetime.timedelta(days=1))&(data['day']>=end_date- datetime.timedelta(days=2))]\n",
    "    user_2=pd.crosstab([daybefore_2.user_id],daybefore_2.behavior_type)\n",
    "    user_browse_buy_2=user_2[4]/user_2[1]\n",
    "    user_collect_buy_2=user_2[4]/user_2[2]\n",
    "    user_cart_buy_2=user_2[4]/user_2[3] \n",
    "    user_2['user_browse_buy_2']=user_browse_buy_2\n",
    "    user_2['user_collect_buy_2']=user_collect_buy_2\n",
    "    user_2['user_cart_buy_2']=user_cart_buy_2\n",
    "    daybefore_3=data[(data['day']<=end_date- datetime.timedelta(days=1))&(data['day']>=end_date- datetime.timedelta(days=3))]\n",
    "    user_3=pd.crosstab([daybefore_3.user_id],daybefore_3.behavior_type)\n",
    "    user_browse_buy_3=user_3[4]/user_3[1]\n",
    "    user_collect_buy_3=user_3[4]/user_3[2]\n",
    "    user_cart_buy_3=user_3[4]/user_3[3]\n",
    "    user_3['user_browse_buy_3']=user_browse_buy_3\n",
    "    user_3['user_collect_buy_3']=user_collect_buy_3\n",
    "    user_3['user_cart_buy_3']=user_cart_buy_3\n",
    "    daybefore_4=data[(data['day']<=end_date- datetime.timedelta(days=1))&(data['day']>=end_date- datetime.timedelta(days=4))]\n",
    "    user_4=pd.crosstab([daybefore_4.user_id],daybefore_4.behavior_type)\n",
    "    user_browse_buy_4=user_4[4]/user_4[1]\n",
    "    user_collect_buy_4=user_4[4]/user_4[2]\n",
    "    user_cart_buy_4=user_4[4]/user_4[3]\n",
    "    user_4['user_browse_buy_4']=user_browse_buy_4\n",
    "    user_4['user_collect_buy_4']=user_collect_buy_4\n",
    "    user_4['user_cart_buy_4']=user_cart_buy_4\n",
    "    daybefore_5=data[(data['day']<=end_date- datetime.timedelta(days=1))&(data['day']>=end_date- datetime.timedelta(days=5))]\n",
    "    user_5=pd.crosstab([daybefore_5.user_id],daybefore_5.behavior_type)\n",
    "    user_browse_buy_5=user_5[4]/user_5[1]\n",
    "    user_collect_buy_5=user_5[4]/user_5[2]\n",
    "    user_cart_buy_5=user_5[4]/user_5[3]\n",
    "    user_5['user_browse_buy_5']=user_browse_buy_5\n",
    "    user_5['user_collect_buy_5']=user_collect_buy_5\n",
    "    user_5['user_cart_buy_5']=user_cart_buy_5\n",
    "    user_feature=pd.merge(user_5, user_4,how='left',right_index=True,left_index=True)\n",
    "    user_feature=pd.merge(user_feature, user_3,how='left',right_index=True,left_index=True)\n",
    "    user_feature=pd.merge(user_feature, user_2,how='left',right_index=True,left_index=True)\n",
    "    user_feature=pd.merge(user_feature, user_1,how='left',right_index=True,left_index=True)\n",
    "    pd.set_option('mode.use_inf_as_na', True)\n",
    "    user_feature=user_feature.fillna(0)\n",
    "    return user_feature\n",
    "    "
   ]
  },
  {
   "cell_type": "code",
   "execution_count": 38,
   "metadata": {},
   "outputs": [],
   "source": [
    "def item_feature(data,end_date):\n",
    "    daybefore_1=data[data['day']==end_date- datetime.timedelta(days=1)]\n",
    "    item_1=pd.crosstab([daybefore_1.item_id],daybefore_1.behavior_type)\n",
    "    item_browse_buy_1=item_1[4]/item_1[1]\n",
    "    item_collect_buy_1=item_1[4]/item_1[2]\n",
    "    item_cart_buy_1=item_1[4]/item_1[3]\n",
    "    item_1['item_browse_buy_1']=item_browse_buy_1\n",
    "    item_1['item_collect_buy_1']=item_collect_buy_1\n",
    "    item_1['item_cart_buy_1']=item_cart_buy_1\n",
    "    daybefore_2=data[(data['day']<=end_date- datetime.timedelta(days=1))&(data['day']>=end_date- datetime.timedelta(days=2))]\n",
    "    item_2=pd.crosstab([daybefore_2.item_id],daybefore_2.behavior_type)\n",
    "    item_browse_buy_2=item_2[4]/item_2[1]\n",
    "    item_collect_buy_2=item_2[4]/item_2[2]\n",
    "    item_cart_buy_2=item_2[4]/item_2[3]\n",
    "    item_2['item_browse_buy_2']=item_browse_buy_2\n",
    "    item_2['item_collect_buy_2']=item_collect_buy_2\n",
    "    item_2['item_cart_buy_2']=item_cart_buy_2\n",
    "    daybefore_3=data[(data['day']<=end_date- datetime.timedelta(days=1))&(data['day']>=end_date- datetime.timedelta(days=3))]\n",
    "    item_3=pd.crosstab([daybefore_3.item_id],daybefore_3.behavior_type)\n",
    "    item_browse_buy_3=item_3[4]/item_3[1]\n",
    "    item_collect_buy_3=item_3[4]/item_3[2]\n",
    "    item_cart_buy_3=item_3[4]/item_3[3]\n",
    "    item_3['item_browse_buy_3']=item_browse_buy_3\n",
    "    item_3['item_collect_buy_3']=item_collect_buy_3\n",
    "    item_3['item_cart_buy_3']=item_cart_buy_3\n",
    "    daybefore_4=data[(data['day']<=end_date- datetime.timedelta(days=1))&(data['day']>=end_date- datetime.timedelta(days=4))]\n",
    "    item_4=pd.crosstab([daybefore_4.item_id],daybefore_4.behavior_type)\n",
    "    item_browse_buy_4=item_4[4]/item_4[1]\n",
    "    item_collect_buy_4=item_4[4]/item_4[2]\n",
    "    item_cart_buy_4=item_4[4]/item_4[3]\n",
    "    item_4['item_browse_buy_4']=item_browse_buy_4\n",
    "    item_4['item_collect_buy_4']=item_collect_buy_4\n",
    "    item_4['item_cart_buy_4']=item_cart_buy_4\n",
    "    daybefore_5=data[(data['day']<=end_date- datetime.timedelta(days=1))&(data['day']>=end_date- datetime.timedelta(days=5))]\n",
    "    item_5=pd.crosstab([daybefore_5.item_id],daybefore_5.behavior_type)\n",
    "    item_browse_buy_5=item_5[4]/item_5[1]\n",
    "    item_collect_buy_5=item_5[4]/item_5[2]\n",
    "    item_cart_buy_5=item_5[4]/item_5[3]\n",
    "    item_5['item_browse_buy_5']=item_browse_buy_5\n",
    "    item_5['item_collect_buy_5']=item_collect_buy_5\n",
    "    item_5['item_cart_buy_5']=item_cart_buy_5\n",
    "    item_feature=pd.merge(item_5, item_4,how='left',right_index=True,left_index=True)\n",
    "    item_feature=pd.merge(item_feature, item_3,how='left',right_index=True,left_index=True)\n",
    "    item_feature=pd.merge(item_feature, item_2,how='left',right_index=True,left_index=True)\n",
    "    item_feature=pd.merge(item_feature, item_1,how='left',right_index=True,left_index=True)\n",
    "    pd.set_option('mode.use_inf_as_na', True)\n",
    "    item_feature=item_feature.fillna(0)\n",
    "    return item_feature  "
   ]
  },
  {
   "cell_type": "code",
   "execution_count": 39,
   "metadata": {},
   "outputs": [],
   "source": [
    "def user_category_feature(data,end_date):\n",
    "    daybefore_1=data[data['day']==end_date- datetime.timedelta(days=1)]\n",
    "    user_category_1=pd.crosstab([daybefore_1['user_id'],daybefore_1['item_category']],daybefore_1.behavior_type)\n",
    "    daybefore_2=data[(data['day']<=end_date- datetime.timedelta(days=1))&(data['day']>=end_date- datetime.timedelta(days=2))]\n",
    "    user_category_2=pd.crosstab([daybefore_2['user_id'],daybefore_2['item_category']],daybefore_2.behavior_type)\n",
    "    daybefore_3=data[(data['day']<=end_date- datetime.timedelta(days=1))&(data['day']>=end_date- datetime.timedelta(days=3))]\n",
    "    user_category_3=pd.crosstab([daybefore_3['user_id'],daybefore_3['item_category']],daybefore_3.behavior_type)\n",
    "    daybefore_4=data[(data['day']<=end_date- datetime.timedelta(days=1))&(data['day']>=end_date- datetime.timedelta(days=4))]\n",
    "    user_category_4=pd.crosstab([daybefore_4['user_id'],daybefore_4['item_category']],daybefore_4.behavior_type)\n",
    "    daybefore_5=data[(data['day']<=end_date- datetime.timedelta(days=1))&(data['day']>=end_date- datetime.timedelta(days=5))]\n",
    "    user_category_5=pd.crosstab([daybefore_5['user_id'],daybefore_5['item_category']],daybefore_5.behavior_type)\n",
    "    user_category_feature=pd.merge(user_category_5, user_category_4,how='left',right_index=True,left_index=True) \n",
    "    user_category_feature=pd.merge(user_category_feature, user_category_3,how='left',right_index=True,left_index=True) \n",
    "    user_category_feature=pd.merge(user_category_feature, user_category_2,how='left',right_index=True,left_index=True)\n",
    "    user_category_feature=pd.merge(user_category_feature, user_category_1,how='left',right_index=True,left_index=True)\n",
    "    pd.set_option('mode.use_inf_as_na', True)\n",
    "    user_category_feature=user_category_feature.fillna(0)\n",
    "    return user_category_feature"
   ]
  },
  {
   "cell_type": "code",
   "execution_count": 40,
   "metadata": {},
   "outputs": [],
   "source": [
    "if __name__ == '__main__':\n",
    "    import datetime\n",
    "    data['buy_or_not']=data['behavior_type']//4 \n",
    "    datelist=list(set(pd.date_range('2014-11-22', freq = 'D', periods =20))|set(pd.date_range('2014-12-13', freq = 'D', periods =5)))\n",
    "    train_data=pd.DataFrame()\n",
    "    for i in range(25):\n",
    "        end_date=datelist[i]\n",
    "        a=data[['user_id','item_id','item_category','buy_or_not']][data['day']==end_date].drop_duplicates()\n",
    "        user_item_feature_result=user_item_feature(data,end_date)\n",
    "        user_feature_result=user_feature(data,end_date)\n",
    "        item_feature_result=item_feature(data,end_date)\n",
    "        user_category_feature_result=user_category_feature(data,end_date)\n",
    "        a=pd.merge(a,user_item_feature_result,how='left',on=['user_id','item_id'],sort=False)\n",
    "        a=pd.merge(a,user_feature_result,how='left',on='user_id',sort=False)\n",
    "        a=pd.merge(a,item_feature_result,how='left',on='item_id',sort=False)\n",
    "        a=pd.merge(a,user_category_feature_result,how='left',on=['user_id','item_category'],sort=False)\n",
    "        a=a.fillna(0)\n",
    "        train_data=train_data.append(a)\n",
    "    train_data.to_csv('train.csv',index=False)\n",
    "    test_data=data[['user_id','item_id','item_category','buy_or_not']][data['day']=='2014-12-18'].drop_duplicates()\n",
    "    test_user_item_feature_result=user_item_feature(data,end_date=datetime.datetime.strptime('2014-12-18','%Y-%m-%d'))\n",
    "    test_user_feature_result=user_item_feature(data,end_date=datetime.datetime.strptime('2014-12-18','%Y-%m-%d'))\n",
    "    test_item_feature_result=item_feature(data,end_date=datetime.datetime.strptime('2014-12-18','%Y-%m-%d'))\n",
    "    test_user_category_feature_result=user_category_feature(data,end_date=datetime.datetime.strptime('2014-12-18','%Y-%m-%d'))    \n",
    "    test_data=pd.merge(test_data,test_user_item_feature_result,how='left',on=['user_id','item_id'],sort=False)\n",
    "    test_data=pd.merge(test_data,test_user_feature_result,how='left',on='user_id',sort=False)\n",
    "    test_data=pd.merge(test_data,test_item_feature_result,how='left',on='item_id',sort=False)\n",
    "    test_data=pd.merge(test_data,test_user_category_feature_result,how='left',on=['user_id','item_category'],sort=False)\n",
    "    test_data=test_data.fillna(0)\n",
    "    test_data.to_csv('test.csv',index=False)\n",
    "    pred_X=data[['user_id','item_id','item_category']][data['behavior_type']==4].drop_duplicates()\n",
    "    pred_user_item_feature_result=user_item_feature(data,end_date=datetime.datetime.strptime('2014-12-19','%Y-%m-%d'))\n",
    "    pred_item_feature_result=item_feature(data,end_date=datetime.datetime.strptime('2014-12-19','%Y-%m-%d'))\n",
    "    pred_user_category_feature_result=user_category_feature(data,end_date=datetime.datetime.strptime('2014-12-19','%Y-%m-%d'))\n",
    "    pred_user_feature_result=user_item_feature(data,end_date=datetime.datetime.strptime('2014-12-19','%Y-%m-%d'))\n",
    "    pred_X=pd.merge(pred_X,pred_user_item_feature_result,how='left',on=['user_id','item_id'],sort=False)\n",
    "    pred_X=pd.merge(pred_X,pred_user_feature_result,how='left',on='user_id',sort=False)\n",
    "    pred_X=pd.merge(pred_X,pred_item_feature_result,how='left',on='item_id',sort=False)\n",
    "    pred_X=pd.merge(pred_X,pred_user_category_feature_result,how='left',on=['user_id','item_category'],sort=False)\n",
    "    pred_X=pred_X.fillna(0)\n",
    "    test_data.to_csv('pred_X.csv',index=False)\n",
    "\n",
    "\n",
    "    \n",
    "     "
   ]
  },
  {
   "cell_type": "code",
   "execution_count": 193,
   "metadata": {},
   "outputs": [
    {
     "ename": "MemoryError",
     "evalue": "",
     "output_type": "error",
     "traceback": [
      "\u001b[1;31m---------------------------------------------------------------------------\u001b[0m",
      "\u001b[1;31mMemoryError\u001b[0m                               Traceback (most recent call last)",
      "\u001b[1;32m<ipython-input-193-57cd8468867a>\u001b[0m in \u001b[0;36m<module>\u001b[1;34m()\u001b[0m\n\u001b[1;32m----> 1\u001b[1;33m \u001b[0mtrain_data\u001b[0m\u001b[1;33m=\u001b[0m\u001b[0mpd\u001b[0m\u001b[1;33m.\u001b[0m\u001b[0mread_csv\u001b[0m\u001b[1;33m(\u001b[0m\u001b[1;34mr'C:\\Users\\jiang\\Desktop\\train.csv'\u001b[0m\u001b[1;33m)\u001b[0m\u001b[1;33m\u001b[0m\u001b[0m\n\u001b[0m\u001b[0;32m      2\u001b[0m \u001b[0mtest_data\u001b[0m\u001b[1;33m=\u001b[0m\u001b[0mpd\u001b[0m\u001b[1;33m.\u001b[0m\u001b[0mread_csv\u001b[0m\u001b[1;33m(\u001b[0m\u001b[1;34mr'C:\\Users\\jiang\\Desktop\\test.csv'\u001b[0m\u001b[1;33m)\u001b[0m\u001b[1;33m\u001b[0m\u001b[0m\n\u001b[0;32m      3\u001b[0m \u001b[0mtrain_x\u001b[0m\u001b[1;33m=\u001b[0m\u001b[0mtrain_data\u001b[0m\u001b[1;33m.\u001b[0m\u001b[0mdrop\u001b[0m\u001b[1;33m(\u001b[0m\u001b[0mcolumns\u001b[0m\u001b[1;33m=\u001b[0m\u001b[1;33m[\u001b[0m\u001b[1;34m'buy_or_not'\u001b[0m\u001b[1;33m,\u001b[0m\u001b[1;34m'item_id'\u001b[0m\u001b[1;33m,\u001b[0m\u001b[1;34m'user_id'\u001b[0m\u001b[1;33m,\u001b[0m\u001b[1;34m'item_category'\u001b[0m\u001b[1;33m]\u001b[0m\u001b[1;33m)\u001b[0m\u001b[1;33m\u001b[0m\u001b[0m\n\u001b[0;32m      4\u001b[0m \u001b[0mtrain_y\u001b[0m\u001b[1;33m=\u001b[0m\u001b[0mtrain_data\u001b[0m\u001b[1;33m[\u001b[0m\u001b[1;34m'buy_or_not'\u001b[0m\u001b[1;33m]\u001b[0m\u001b[1;33m\u001b[0m\u001b[0m\n\u001b[0;32m      5\u001b[0m \u001b[0mtest_x\u001b[0m\u001b[1;33m=\u001b[0m\u001b[0mtest_data\u001b[0m\u001b[1;33m.\u001b[0m\u001b[0mdrop\u001b[0m\u001b[1;33m(\u001b[0m\u001b[0mcolumns\u001b[0m\u001b[1;33m=\u001b[0m\u001b[1;33m[\u001b[0m\u001b[1;34m'buy_or_not'\u001b[0m\u001b[1;33m,\u001b[0m\u001b[1;34m'item_id'\u001b[0m\u001b[1;33m,\u001b[0m\u001b[1;34m'user_id'\u001b[0m\u001b[1;33m,\u001b[0m\u001b[1;34m'item_category'\u001b[0m\u001b[1;33m]\u001b[0m\u001b[1;33m)\u001b[0m\u001b[1;33m\u001b[0m\u001b[0m\n",
      "\u001b[1;32m~\\AppData\\Local\\Continuum\\anaconda3\\lib\\site-packages\\pandas\\io\\parsers.py\u001b[0m in \u001b[0;36mparser_f\u001b[1;34m(filepath_or_buffer, sep, delimiter, header, names, index_col, usecols, squeeze, prefix, mangle_dupe_cols, dtype, engine, converters, true_values, false_values, skipinitialspace, skiprows, nrows, na_values, keep_default_na, na_filter, verbose, skip_blank_lines, parse_dates, infer_datetime_format, keep_date_col, date_parser, dayfirst, iterator, chunksize, compression, thousands, decimal, lineterminator, quotechar, quoting, escapechar, comment, encoding, dialect, tupleize_cols, error_bad_lines, warn_bad_lines, skipfooter, doublequote, delim_whitespace, low_memory, memory_map, float_precision)\u001b[0m\n\u001b[0;32m    676\u001b[0m                     skip_blank_lines=skip_blank_lines)\n\u001b[0;32m    677\u001b[0m \u001b[1;33m\u001b[0m\u001b[0m\n\u001b[1;32m--> 678\u001b[1;33m         \u001b[1;32mreturn\u001b[0m \u001b[0m_read\u001b[0m\u001b[1;33m(\u001b[0m\u001b[0mfilepath_or_buffer\u001b[0m\u001b[1;33m,\u001b[0m \u001b[0mkwds\u001b[0m\u001b[1;33m)\u001b[0m\u001b[1;33m\u001b[0m\u001b[0m\n\u001b[0m\u001b[0;32m    679\u001b[0m \u001b[1;33m\u001b[0m\u001b[0m\n\u001b[0;32m    680\u001b[0m     \u001b[0mparser_f\u001b[0m\u001b[1;33m.\u001b[0m\u001b[0m__name__\u001b[0m \u001b[1;33m=\u001b[0m \u001b[0mname\u001b[0m\u001b[1;33m\u001b[0m\u001b[0m\n",
      "\u001b[1;32m~\\AppData\\Local\\Continuum\\anaconda3\\lib\\site-packages\\pandas\\io\\parsers.py\u001b[0m in \u001b[0;36m_read\u001b[1;34m(filepath_or_buffer, kwds)\u001b[0m\n\u001b[0;32m    444\u001b[0m \u001b[1;33m\u001b[0m\u001b[0m\n\u001b[0;32m    445\u001b[0m     \u001b[1;32mtry\u001b[0m\u001b[1;33m:\u001b[0m\u001b[1;33m\u001b[0m\u001b[0m\n\u001b[1;32m--> 446\u001b[1;33m         \u001b[0mdata\u001b[0m \u001b[1;33m=\u001b[0m \u001b[0mparser\u001b[0m\u001b[1;33m.\u001b[0m\u001b[0mread\u001b[0m\u001b[1;33m(\u001b[0m\u001b[0mnrows\u001b[0m\u001b[1;33m)\u001b[0m\u001b[1;33m\u001b[0m\u001b[0m\n\u001b[0m\u001b[0;32m    447\u001b[0m     \u001b[1;32mfinally\u001b[0m\u001b[1;33m:\u001b[0m\u001b[1;33m\u001b[0m\u001b[0m\n\u001b[0;32m    448\u001b[0m         \u001b[0mparser\u001b[0m\u001b[1;33m.\u001b[0m\u001b[0mclose\u001b[0m\u001b[1;33m(\u001b[0m\u001b[1;33m)\u001b[0m\u001b[1;33m\u001b[0m\u001b[0m\n",
      "\u001b[1;32m~\\AppData\\Local\\Continuum\\anaconda3\\lib\\site-packages\\pandas\\io\\parsers.py\u001b[0m in \u001b[0;36mread\u001b[1;34m(self, nrows)\u001b[0m\n\u001b[0;32m   1049\u001b[0m             \u001b[0mnew_rows\u001b[0m \u001b[1;33m=\u001b[0m \u001b[0mlen\u001b[0m\u001b[1;33m(\u001b[0m\u001b[0mindex\u001b[0m\u001b[1;33m)\u001b[0m\u001b[1;33m\u001b[0m\u001b[0m\n\u001b[0;32m   1050\u001b[0m \u001b[1;33m\u001b[0m\u001b[0m\n\u001b[1;32m-> 1051\u001b[1;33m         \u001b[0mdf\u001b[0m \u001b[1;33m=\u001b[0m \u001b[0mDataFrame\u001b[0m\u001b[1;33m(\u001b[0m\u001b[0mcol_dict\u001b[0m\u001b[1;33m,\u001b[0m \u001b[0mcolumns\u001b[0m\u001b[1;33m=\u001b[0m\u001b[0mcolumns\u001b[0m\u001b[1;33m,\u001b[0m \u001b[0mindex\u001b[0m\u001b[1;33m=\u001b[0m\u001b[0mindex\u001b[0m\u001b[1;33m)\u001b[0m\u001b[1;33m\u001b[0m\u001b[0m\n\u001b[0m\u001b[0;32m   1052\u001b[0m \u001b[1;33m\u001b[0m\u001b[0m\n\u001b[0;32m   1053\u001b[0m         \u001b[0mself\u001b[0m\u001b[1;33m.\u001b[0m\u001b[0m_currow\u001b[0m \u001b[1;33m+=\u001b[0m \u001b[0mnew_rows\u001b[0m\u001b[1;33m\u001b[0m\u001b[0m\n",
      "\u001b[1;32m~\\AppData\\Local\\Continuum\\anaconda3\\lib\\site-packages\\pandas\\core\\frame.py\u001b[0m in \u001b[0;36m__init__\u001b[1;34m(self, data, index, columns, dtype, copy)\u001b[0m\n\u001b[0;32m    346\u001b[0m                                  dtype=dtype, copy=copy)\n\u001b[0;32m    347\u001b[0m         \u001b[1;32melif\u001b[0m \u001b[0misinstance\u001b[0m\u001b[1;33m(\u001b[0m\u001b[0mdata\u001b[0m\u001b[1;33m,\u001b[0m \u001b[0mdict\u001b[0m\u001b[1;33m)\u001b[0m\u001b[1;33m:\u001b[0m\u001b[1;33m\u001b[0m\u001b[0m\n\u001b[1;32m--> 348\u001b[1;33m             \u001b[0mmgr\u001b[0m \u001b[1;33m=\u001b[0m \u001b[0mself\u001b[0m\u001b[1;33m.\u001b[0m\u001b[0m_init_dict\u001b[0m\u001b[1;33m(\u001b[0m\u001b[0mdata\u001b[0m\u001b[1;33m,\u001b[0m \u001b[0mindex\u001b[0m\u001b[1;33m,\u001b[0m \u001b[0mcolumns\u001b[0m\u001b[1;33m,\u001b[0m \u001b[0mdtype\u001b[0m\u001b[1;33m=\u001b[0m\u001b[0mdtype\u001b[0m\u001b[1;33m)\u001b[0m\u001b[1;33m\u001b[0m\u001b[0m\n\u001b[0m\u001b[0;32m    349\u001b[0m         \u001b[1;32melif\u001b[0m \u001b[0misinstance\u001b[0m\u001b[1;33m(\u001b[0m\u001b[0mdata\u001b[0m\u001b[1;33m,\u001b[0m \u001b[0mma\u001b[0m\u001b[1;33m.\u001b[0m\u001b[0mMaskedArray\u001b[0m\u001b[1;33m)\u001b[0m\u001b[1;33m:\u001b[0m\u001b[1;33m\u001b[0m\u001b[0m\n\u001b[0;32m    350\u001b[0m             \u001b[1;32mimport\u001b[0m \u001b[0mnumpy\u001b[0m\u001b[1;33m.\u001b[0m\u001b[0mma\u001b[0m\u001b[1;33m.\u001b[0m\u001b[0mmrecords\u001b[0m \u001b[1;32mas\u001b[0m \u001b[0mmrecords\u001b[0m\u001b[1;33m\u001b[0m\u001b[0m\n",
      "\u001b[1;32m~\\AppData\\Local\\Continuum\\anaconda3\\lib\\site-packages\\pandas\\core\\frame.py\u001b[0m in \u001b[0;36m_init_dict\u001b[1;34m(self, data, index, columns, dtype)\u001b[0m\n\u001b[0;32m    457\u001b[0m             \u001b[0marrays\u001b[0m \u001b[1;33m=\u001b[0m \u001b[1;33m[\u001b[0m\u001b[0mdata\u001b[0m\u001b[1;33m[\u001b[0m\u001b[0mk\u001b[0m\u001b[1;33m]\u001b[0m \u001b[1;32mfor\u001b[0m \u001b[0mk\u001b[0m \u001b[1;32min\u001b[0m \u001b[0mkeys\u001b[0m\u001b[1;33m]\u001b[0m\u001b[1;33m\u001b[0m\u001b[0m\n\u001b[0;32m    458\u001b[0m \u001b[1;33m\u001b[0m\u001b[0m\n\u001b[1;32m--> 459\u001b[1;33m         \u001b[1;32mreturn\u001b[0m \u001b[0m_arrays_to_mgr\u001b[0m\u001b[1;33m(\u001b[0m\u001b[0marrays\u001b[0m\u001b[1;33m,\u001b[0m \u001b[0mdata_names\u001b[0m\u001b[1;33m,\u001b[0m \u001b[0mindex\u001b[0m\u001b[1;33m,\u001b[0m \u001b[0mcolumns\u001b[0m\u001b[1;33m,\u001b[0m \u001b[0mdtype\u001b[0m\u001b[1;33m=\u001b[0m\u001b[0mdtype\u001b[0m\u001b[1;33m)\u001b[0m\u001b[1;33m\u001b[0m\u001b[0m\n\u001b[0m\u001b[0;32m    460\u001b[0m \u001b[1;33m\u001b[0m\u001b[0m\n\u001b[0;32m    461\u001b[0m     \u001b[1;32mdef\u001b[0m \u001b[0m_init_ndarray\u001b[0m\u001b[1;33m(\u001b[0m\u001b[0mself\u001b[0m\u001b[1;33m,\u001b[0m \u001b[0mvalues\u001b[0m\u001b[1;33m,\u001b[0m \u001b[0mindex\u001b[0m\u001b[1;33m,\u001b[0m \u001b[0mcolumns\u001b[0m\u001b[1;33m,\u001b[0m \u001b[0mdtype\u001b[0m\u001b[1;33m=\u001b[0m\u001b[1;32mNone\u001b[0m\u001b[1;33m,\u001b[0m \u001b[0mcopy\u001b[0m\u001b[1;33m=\u001b[0m\u001b[1;32mFalse\u001b[0m\u001b[1;33m)\u001b[0m\u001b[1;33m:\u001b[0m\u001b[1;33m\u001b[0m\u001b[0m\n",
      "\u001b[1;32m~\\AppData\\Local\\Continuum\\anaconda3\\lib\\site-packages\\pandas\\core\\frame.py\u001b[0m in \u001b[0;36m_arrays_to_mgr\u001b[1;34m(arrays, arr_names, index, columns, dtype)\u001b[0m\n\u001b[0;32m   7321\u001b[0m     \u001b[0maxes\u001b[0m \u001b[1;33m=\u001b[0m \u001b[1;33m[\u001b[0m\u001b[0m_ensure_index\u001b[0m\u001b[1;33m(\u001b[0m\u001b[0mcolumns\u001b[0m\u001b[1;33m)\u001b[0m\u001b[1;33m,\u001b[0m \u001b[0m_ensure_index\u001b[0m\u001b[1;33m(\u001b[0m\u001b[0mindex\u001b[0m\u001b[1;33m)\u001b[0m\u001b[1;33m]\u001b[0m\u001b[1;33m\u001b[0m\u001b[0m\n\u001b[0;32m   7322\u001b[0m \u001b[1;33m\u001b[0m\u001b[0m\n\u001b[1;32m-> 7323\u001b[1;33m     \u001b[1;32mreturn\u001b[0m \u001b[0mcreate_block_manager_from_arrays\u001b[0m\u001b[1;33m(\u001b[0m\u001b[0marrays\u001b[0m\u001b[1;33m,\u001b[0m \u001b[0marr_names\u001b[0m\u001b[1;33m,\u001b[0m \u001b[0maxes\u001b[0m\u001b[1;33m)\u001b[0m\u001b[1;33m\u001b[0m\u001b[0m\n\u001b[0m\u001b[0;32m   7324\u001b[0m \u001b[1;33m\u001b[0m\u001b[0m\n\u001b[0;32m   7325\u001b[0m \u001b[1;33m\u001b[0m\u001b[0m\n",
      "\u001b[1;32m~\\AppData\\Local\\Continuum\\anaconda3\\lib\\site-packages\\pandas\\core\\internals.py\u001b[0m in \u001b[0;36mcreate_block_manager_from_arrays\u001b[1;34m(arrays, names, axes)\u001b[0m\n\u001b[0;32m   4870\u001b[0m \u001b[1;33m\u001b[0m\u001b[0m\n\u001b[0;32m   4871\u001b[0m     \u001b[1;32mtry\u001b[0m\u001b[1;33m:\u001b[0m\u001b[1;33m\u001b[0m\u001b[0m\n\u001b[1;32m-> 4872\u001b[1;33m         \u001b[0mblocks\u001b[0m \u001b[1;33m=\u001b[0m \u001b[0mform_blocks\u001b[0m\u001b[1;33m(\u001b[0m\u001b[0marrays\u001b[0m\u001b[1;33m,\u001b[0m \u001b[0mnames\u001b[0m\u001b[1;33m,\u001b[0m \u001b[0maxes\u001b[0m\u001b[1;33m)\u001b[0m\u001b[1;33m\u001b[0m\u001b[0m\n\u001b[0m\u001b[0;32m   4873\u001b[0m         \u001b[0mmgr\u001b[0m \u001b[1;33m=\u001b[0m \u001b[0mBlockManager\u001b[0m\u001b[1;33m(\u001b[0m\u001b[0mblocks\u001b[0m\u001b[1;33m,\u001b[0m \u001b[0maxes\u001b[0m\u001b[1;33m)\u001b[0m\u001b[1;33m\u001b[0m\u001b[0m\n\u001b[0;32m   4874\u001b[0m         \u001b[0mmgr\u001b[0m\u001b[1;33m.\u001b[0m\u001b[0m_consolidate_inplace\u001b[0m\u001b[1;33m(\u001b[0m\u001b[1;33m)\u001b[0m\u001b[1;33m\u001b[0m\u001b[0m\n",
      "\u001b[1;32m~\\AppData\\Local\\Continuum\\anaconda3\\lib\\site-packages\\pandas\\core\\internals.py\u001b[0m in \u001b[0;36mform_blocks\u001b[1;34m(arrays, names, axes)\u001b[0m\n\u001b[0;32m   4904\u001b[0m     \u001b[0mblocks\u001b[0m \u001b[1;33m=\u001b[0m \u001b[1;33m[\u001b[0m\u001b[1;33m]\u001b[0m\u001b[1;33m\u001b[0m\u001b[0m\n\u001b[0;32m   4905\u001b[0m     \u001b[1;32mif\u001b[0m \u001b[0mlen\u001b[0m\u001b[1;33m(\u001b[0m\u001b[0mitems_dict\u001b[0m\u001b[1;33m[\u001b[0m\u001b[1;34m'FloatBlock'\u001b[0m\u001b[1;33m]\u001b[0m\u001b[1;33m)\u001b[0m\u001b[1;33m:\u001b[0m\u001b[1;33m\u001b[0m\u001b[0m\n\u001b[1;32m-> 4906\u001b[1;33m         \u001b[0mfloat_blocks\u001b[0m \u001b[1;33m=\u001b[0m \u001b[0m_multi_blockify\u001b[0m\u001b[1;33m(\u001b[0m\u001b[0mitems_dict\u001b[0m\u001b[1;33m[\u001b[0m\u001b[1;34m'FloatBlock'\u001b[0m\u001b[1;33m]\u001b[0m\u001b[1;33m)\u001b[0m\u001b[1;33m\u001b[0m\u001b[0m\n\u001b[0m\u001b[0;32m   4907\u001b[0m         \u001b[0mblocks\u001b[0m\u001b[1;33m.\u001b[0m\u001b[0mextend\u001b[0m\u001b[1;33m(\u001b[0m\u001b[0mfloat_blocks\u001b[0m\u001b[1;33m)\u001b[0m\u001b[1;33m\u001b[0m\u001b[0m\n\u001b[0;32m   4908\u001b[0m \u001b[1;33m\u001b[0m\u001b[0m\n",
      "\u001b[1;32m~\\AppData\\Local\\Continuum\\anaconda3\\lib\\site-packages\\pandas\\core\\internals.py\u001b[0m in \u001b[0;36m_multi_blockify\u001b[1;34m(tuples, dtype)\u001b[0m\n\u001b[0;32m   4993\u001b[0m     \u001b[1;32mfor\u001b[0m \u001b[0mdtype\u001b[0m\u001b[1;33m,\u001b[0m \u001b[0mtup_block\u001b[0m \u001b[1;32min\u001b[0m \u001b[0mgrouper\u001b[0m\u001b[1;33m:\u001b[0m\u001b[1;33m\u001b[0m\u001b[0m\n\u001b[0;32m   4994\u001b[0m \u001b[1;33m\u001b[0m\u001b[0m\n\u001b[1;32m-> 4995\u001b[1;33m         \u001b[0mvalues\u001b[0m\u001b[1;33m,\u001b[0m \u001b[0mplacement\u001b[0m \u001b[1;33m=\u001b[0m \u001b[0m_stack_arrays\u001b[0m\u001b[1;33m(\u001b[0m\u001b[0mlist\u001b[0m\u001b[1;33m(\u001b[0m\u001b[0mtup_block\u001b[0m\u001b[1;33m)\u001b[0m\u001b[1;33m,\u001b[0m \u001b[0mdtype\u001b[0m\u001b[1;33m)\u001b[0m\u001b[1;33m\u001b[0m\u001b[0m\n\u001b[0m\u001b[0;32m   4996\u001b[0m \u001b[1;33m\u001b[0m\u001b[0m\n\u001b[0;32m   4997\u001b[0m         \u001b[0mblock\u001b[0m \u001b[1;33m=\u001b[0m \u001b[0mmake_block\u001b[0m\u001b[1;33m(\u001b[0m\u001b[0mvalues\u001b[0m\u001b[1;33m,\u001b[0m \u001b[0mplacement\u001b[0m\u001b[1;33m=\u001b[0m\u001b[0mplacement\u001b[0m\u001b[1;33m)\u001b[0m\u001b[1;33m\u001b[0m\u001b[0m\n",
      "\u001b[1;32m~\\AppData\\Local\\Continuum\\anaconda3\\lib\\site-packages\\pandas\\core\\internals.py\u001b[0m in \u001b[0;36m_stack_arrays\u001b[1;34m(tuples, dtype)\u001b[0m\n\u001b[0;32m   5035\u001b[0m     \u001b[0mshape\u001b[0m \u001b[1;33m=\u001b[0m \u001b[1;33m(\u001b[0m\u001b[0mlen\u001b[0m\u001b[1;33m(\u001b[0m\u001b[0marrays\u001b[0m\u001b[1;33m)\u001b[0m\u001b[1;33m,\u001b[0m\u001b[1;33m)\u001b[0m \u001b[1;33m+\u001b[0m \u001b[0m_shape_compat\u001b[0m\u001b[1;33m(\u001b[0m\u001b[0mfirst\u001b[0m\u001b[1;33m)\u001b[0m\u001b[1;33m\u001b[0m\u001b[0m\n\u001b[0;32m   5036\u001b[0m \u001b[1;33m\u001b[0m\u001b[0m\n\u001b[1;32m-> 5037\u001b[1;33m     \u001b[0mstacked\u001b[0m \u001b[1;33m=\u001b[0m \u001b[0mnp\u001b[0m\u001b[1;33m.\u001b[0m\u001b[0mempty\u001b[0m\u001b[1;33m(\u001b[0m\u001b[0mshape\u001b[0m\u001b[1;33m,\u001b[0m \u001b[0mdtype\u001b[0m\u001b[1;33m=\u001b[0m\u001b[0mdtype\u001b[0m\u001b[1;33m)\u001b[0m\u001b[1;33m\u001b[0m\u001b[0m\n\u001b[0m\u001b[0;32m   5038\u001b[0m     \u001b[1;32mfor\u001b[0m \u001b[0mi\u001b[0m\u001b[1;33m,\u001b[0m \u001b[0marr\u001b[0m \u001b[1;32min\u001b[0m \u001b[0menumerate\u001b[0m\u001b[1;33m(\u001b[0m\u001b[0marrays\u001b[0m\u001b[1;33m)\u001b[0m\u001b[1;33m:\u001b[0m\u001b[1;33m\u001b[0m\u001b[0m\n\u001b[0;32m   5039\u001b[0m         \u001b[0mstacked\u001b[0m\u001b[1;33m[\u001b[0m\u001b[0mi\u001b[0m\u001b[1;33m]\u001b[0m \u001b[1;33m=\u001b[0m \u001b[0m_asarray_compat\u001b[0m\u001b[1;33m(\u001b[0m\u001b[0marr\u001b[0m\u001b[1;33m)\u001b[0m\u001b[1;33m\u001b[0m\u001b[0m\n",
      "\u001b[1;31mMemoryError\u001b[0m: "
     ]
    }
   ],
   "source": [
    "train_data=pd.read_csv(r'C:\\Users\\jiang\\Desktop\\train.csv')\n",
    "test_data=pd.read_csv(r'C:\\Users\\jiang\\Desktop\\test.csv')\n",
    "train_x=train_data.drop(columns=['buy_or_not','item_id','user_id','item_category'])\n",
    "train_y=train_data['buy_or_not']\n",
    "test_x=test_data.drop(columns=['buy_or_not','item_id','user_id','item_category'])\n",
    "y_true=test_data['buy_or_not']\n",
    "from sklearn.metrics import f1_score\n",
    "from xgboost.sklearn import XGBClassifier\n",
    "model=XGBClassifier(scale_pos_weight=10)\n",
    "model.fit(train_x.values,train_y.values.ravel())\n"
   ]
  },
  {
   "cell_type": "code",
   "execution_count": null,
   "metadata": {},
   "outputs": [],
   "source": [
    "y_true.sum()"
   ]
  },
  {
   "cell_type": "code",
   "execution_count": null,
   "metadata": {},
   "outputs": [],
   "source": [
    "test_x=test_x.drop(columns='Unnamed: 0')\n"
   ]
  },
  {
   "cell_type": "code",
   "execution_count": null,
   "metadata": {},
   "outputs": [],
   "source": [
    "test_x=test_x.fillna(0)"
   ]
  },
  {
   "cell_type": "code",
   "execution_count": null,
   "metadata": {},
   "outputs": [],
   "source": [
    "test_x.head()"
   ]
  },
  {
   "cell_type": "code",
   "execution_count": null,
   "metadata": {},
   "outputs": [],
   "source": [
    "y_pred = model.predict(test_x.values)\n",
    "\n"
   ]
  },
  {
   "cell_type": "code",
   "execution_count": null,
   "metadata": {},
   "outputs": [],
   "source": [
    "y_pred.sum()"
   ]
  },
  {
   "cell_type": "code",
   "execution_count": null,
   "metadata": {},
   "outputs": [],
   "source": [
    "f1_score(y_true, y_pred, average=None)"
   ]
  },
  {
   "cell_type": "code",
   "execution_count": null,
   "metadata": {},
   "outputs": [],
   "source": [
    "pred_x=pd.read_csv(r'C:\\Users\\jiang\\Desktop\\pred.csv')\n",
    "pred_X=pred_x.drop(columns=['Unnamed: 0','item_id','user_id','item_category'])\n",
    "pred_X=pred_X.fillna(0)\n"
   ]
  },
  {
   "cell_type": "code",
   "execution_count": null,
   "metadata": {},
   "outputs": [],
   "source": [
    "pred_X.head()"
   ]
  },
  {
   "cell_type": "code",
   "execution_count": null,
   "metadata": {},
   "outputs": [],
   "source": [
    "pred_Y = model.predict(pred_X.values)"
   ]
  },
  {
   "cell_type": "code",
   "execution_count": null,
   "metadata": {},
   "outputs": [],
   "source": [
    "pred_Y=pd.DataFrame(list(pred_Y))"
   ]
  },
  {
   "cell_type": "code",
   "execution_count": null,
   "metadata": {},
   "outputs": [],
   "source": [
    "pred_x=pd.read_csv(r'C:\\Users\\jiang\\Desktop\\pred.csv')\n",
    "pred=pred_x[['user_id','item_id']].astype(str)\n",
    "pred=pd.concat([pred,pred_Y],axis=1)\n",
    "pred.columns=['user_id','item_id','buy_or_not']\n",
    "pred=pred[pred['buy_or_not']==1]\n",
    "pred.to_csv('tianchi_mobile_recommendation_predict.csv',index=False)"
   ]
  },
  {
   "cell_type": "code",
   "execution_count": null,
   "metadata": {},
   "outputs": [],
   "source": []
  }
 ],
 "metadata": {
  "kernelspec": {
   "display_name": "Python 3",
   "language": "python",
   "name": "python3"
  },
  "language_info": {
   "codemirror_mode": {
    "name": "ipython",
    "version": 3
   },
   "file_extension": ".py",
   "mimetype": "text/x-python",
   "name": "python",
   "nbconvert_exporter": "python",
   "pygments_lexer": "ipython3",
   "version": "3.6.5"
  }
 },
 "nbformat": 4,
 "nbformat_minor": 2
}
